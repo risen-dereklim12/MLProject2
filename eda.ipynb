{
  "cells": [
    {
      "cell_type": "code",
      "execution_count": null,
      "metadata": {
        "colab": {
          "base_uri": "https://localhost:8080/"
        },
        "id": "iJWQN5zPyHYy",
        "outputId": "0074bdb2-fc9e-4660-ed5f-c344a562556e"
      },
      "outputs": [],
      "source": [
        "from google.colab import drive\n",
        "drive.mount('/content/drive')\n",
        "\n",
        "colabPath = 'drive/My Drive/Colab Notebooks/AIAP16/'"
      ]
    },
    {
      "cell_type": "code",
      "execution_count": null,
      "metadata": {
        "id": "0b-PuvgzBQTY"
      },
      "outputs": [],
      "source": [
        "dataset_path = colabPath + \"lung_cancer.db\""
      ]
    },
    {
      "cell_type": "code",
      "execution_count": null,
      "metadata": {
        "id": "ZSQ_P8wDCkJh"
      },
      "outputs": [],
      "source": [
        "# import libraries\n",
        "import sqlite3 as sq3\n",
        "import pandas as pd\n",
        "import numpy as np\n",
        "import seaborn as sns\n",
        "import matplotlib.pyplot as plt"
      ]
    },
    {
      "cell_type": "code",
      "execution_count": null,
      "metadata": {
        "id": "e97Eu9xwCjXG"
      },
      "outputs": [],
      "source": [
        "# Connect to database\n",
        "conn = sq3.Connection(dataset_path)"
      ]
    },
    {
      "cell_type": "code",
      "execution_count": null,
      "metadata": {
        "id": "iWcaIGv5C5-b"
      },
      "outputs": [],
      "source": [
        "# Create query statement\n",
        "query = \"\"\"\n",
        "SELECT *\n",
        "FROM lung_cancer;\n",
        "\"\"\""
      ]
    },
    {
      "cell_type": "code",
      "execution_count": null,
      "metadata": {
        "colab": {
          "base_uri": "https://localhost:8080/",
          "height": 327
        },
        "id": "Tt16tZ9nC_2a",
        "outputId": "2511c960-9afb-4abf-ffa4-2fb4e5ef1d25"
      },
      "outputs": [],
      "source": [
        "# Load data into Dataframe and view first 5 rows of db\n",
        "df = pd.read_sql(query, conn)\n",
        "df.head()"
      ]
    },
    {
      "cell_type": "code",
      "execution_count": null,
      "metadata": {
        "colab": {
          "base_uri": "https://localhost:8080/"
        },
        "id": "Pf4e3vCcLwQm",
        "outputId": "52365072-6aad-45b4-a753-a3272993ca95"
      },
      "outputs": [],
      "source": [
        "# check the shape of the dataframe\n",
        "df.shape"
      ]
    },
    {
      "cell_type": "code",
      "execution_count": null,
      "metadata": {
        "colab": {
          "base_uri": "https://localhost:8080/",
          "height": 300
        },
        "id": "Aca2VKoqgmrP",
        "outputId": "dcfcaa71-b75b-44ae-8bf8-b5722148c7c7"
      },
      "outputs": [],
      "source": [
        "df.describe()"
      ]
    },
    {
      "cell_type": "markdown",
      "metadata": {
        "id": "E9G-g667Det9"
      },
      "source": [
        "I need to drop the ID column as it is not meaningful and thus, not used for analysis."
      ]
    },
    {
      "cell_type": "code",
      "execution_count": null,
      "metadata": {
        "colab": {
          "base_uri": "https://localhost:8080/",
          "height": 258
        },
        "id": "QS2VrPc9H10r",
        "outputId": "8611c75e-e4c7-4ce4-e8fc-3d0909cb3775"
      },
      "outputs": [],
      "source": [
        "df = df.drop('ID', axis=1)\n",
        "df.head()"
      ]
    },
    {
      "cell_type": "markdown",
      "metadata": {
        "id": "hWNsqF0A_5dq"
      },
      "source": [
        "The minimum age as shown in the summary of the data, cannot be negative. I will investigate that now."
      ]
    },
    {
      "cell_type": "code",
      "execution_count": null,
      "metadata": {
        "colab": {
          "base_uri": "https://localhost:8080/"
        },
        "id": "dMIURmEkACC_",
        "outputId": "9e34a141-acba-4e1f-ab35-42c7585fd2c3"
      },
      "outputs": [],
      "source": [
        "# Count the sum of values in Age column that are less than 0\n",
        "age_less_than_zero = (df['Age'] < 0).sum()\n",
        "print(age_less_than_zero)"
      ]
    },
    {
      "cell_type": "code",
      "execution_count": null,
      "metadata": {
        "colab": {
          "base_uri": "https://localhost:8080/",
          "height": 241
        },
        "id": "xxYmbVOMAvz9",
        "outputId": "243eb863-fee4-4dfb-e4cf-017fa4994293"
      },
      "outputs": [],
      "source": [
        "filtered_age_df = df[(df['Age'] < 0)]\n",
        "filtered_age_df.head()"
      ]
    },
    {
      "cell_type": "markdown",
      "metadata": {
        "id": "DA_UI0_0Ay8r"
      },
      "source": [
        "After investigations, I choose to replace the negative values as it is but make it positive. Reason for that is that I assume that it was a typo error or system error during input."
      ]
    },
    {
      "cell_type": "code",
      "execution_count": null,
      "metadata": {
        "colab": {
          "base_uri": "https://localhost:8080/",
          "height": 258
        },
        "id": "hVYHPau3A0wL",
        "outputId": "2cea2aa0-8223-4539-9361-bc6eda1e4344"
      },
      "outputs": [],
      "source": [
        "# Replace the negative values as positive\n",
        "df['Age'] = df['Age'].abs()\n",
        "df.head()"
      ]
    },
    {
      "cell_type": "code",
      "execution_count": null,
      "metadata": {
        "colab": {
          "base_uri": "https://localhost:8080/",
          "height": 300
        },
        "id": "LsH5L7p1B-1K",
        "outputId": "b437f1ce-6444-498d-91aa-815f7e30b021"
      },
      "outputs": [],
      "source": [
        "df.describe()"
      ]
    },
    {
      "cell_type": "markdown",
      "metadata": {
        "id": "IBzWrCnV-_i_"
      },
      "source": [
        "I want to view the distribution of the sample size of Lung Cancer Occurence by age"
      ]
    },
    {
      "cell_type": "code",
      "execution_count": null,
      "metadata": {
        "colab": {
          "base_uri": "https://localhost:8080/",
          "height": 327
        },
        "id": "oe1xEGIG--IV",
        "outputId": "26763b07-8001-4202-a9fc-71eabaf4225a"
      },
      "outputs": [],
      "source": [
        "# Define age bins and labels\n",
        "bins = [0, 18, 30, 40, 50, 60, 70, 80, 90, 100, 110, 120]\n",
        "labels = ['0-18', '19-30', '31-40', '41-50', '51-60', '61-70', '71-80', '81-90', '91-100', '101-110', '111-120']\n",
        "\n",
        "# Create Age Group column based on Age column\n",
        "df['Age Group'] = pd.cut(df['Age'], bins=bins, labels=labels, right=False)\n",
        "\n",
        "df.head()"
      ]
    },
    {
      "cell_type": "code",
      "execution_count": null,
      "metadata": {
        "colab": {
          "base_uri": "https://localhost:8080/",
          "height": 472
        },
        "id": "cJ_VuFbwBGOK",
        "outputId": "d1c6e42c-4664-4114-e384-48d316f2a2f7"
      },
      "outputs": [],
      "source": [
        "sns.countplot(x='Age Group', hue='Lung Cancer Occurrence', data=df)\n",
        "plt.title('Lung Cancer Occurrence by Age')\n",
        "plt.xlabel('Age Group')\n",
        "plt.ylabel('Count')\n",
        "plt.show()"
      ]
    },
    {
      "cell_type": "markdown",
      "metadata": {
        "id": "MCg7SGC3Iq5f"
      },
      "source": [
        "I need to encode the data in the columns of COPD History, Genetic Markers, Air Pollution Exposure, Taken Bronchodilators, Frequency of Tiredness and Dominant Hand"
      ]
    },
    {
      "cell_type": "code",
      "execution_count": null,
      "metadata": {
        "colab": {
          "base_uri": "https://localhost:8080/"
        },
        "id": "C0U-jskfIqDX",
        "outputId": "226cc259-6605-4eb1-f0ac-6b220a1a05bb"
      },
      "outputs": [],
      "source": [
        "# Check the categories in Gender\n",
        "unique_gender = df['Gender'].unique()\n",
        "print(unique_gender)"
      ]
    },
    {
      "cell_type": "markdown",
      "metadata": {
        "id": "kz8E0BYcJq8t"
      },
      "source": [
        "I need to check the number of NAN values in Gender column"
      ]
    },
    {
      "cell_type": "code",
      "execution_count": null,
      "metadata": {
        "colab": {
          "base_uri": "https://localhost:8080/"
        },
        "id": "qXHHRVYYJ5kp",
        "outputId": "91919d26-f880-4eac-8f26-0bbe159d2600"
      },
      "outputs": [],
      "source": [
        "# Count the number of NaN values\n",
        "nan_count = df['Gender'].isna().sum()\n",
        "print(f'Number of NaN values in the Gender column: {nan_count}')"
      ]
    },
    {
      "cell_type": "markdown",
      "metadata": {
        "id": "VdlzPtTtK622"
      },
      "source": [
        "It seems that NAN is a string. I shall check the number of NAN values."
      ]
    },
    {
      "cell_type": "code",
      "execution_count": null,
      "metadata": {
        "colab": {
          "base_uri": "https://localhost:8080/"
        },
        "id": "apvrstTTLDU4",
        "outputId": "55dd7490-f62c-4808-f6ee-55bae7df0636"
      },
      "outputs": [],
      "source": [
        "matching_count = len(df[df['Gender'] == 'NAN'])\n",
        "print(f'Number of NAN values in the Gender column: {matching_count}')"
      ]
    },
    {
      "cell_type": "markdown",
      "metadata": {
        "id": "kRcRNqK_LPfs"
      },
      "source": [
        "Since None value in Gender column is only 1 row, I shall drop the row."
      ]
    },
    {
      "cell_type": "code",
      "execution_count": null,
      "metadata": {
        "colab": {
          "base_uri": "https://localhost:8080/"
        },
        "id": "90GKaENbLWny",
        "outputId": "2062586b-5a82-4660-f9ee-3b4bea71664f"
      },
      "outputs": [],
      "source": [
        "# Drop rows where Gender is equivalent to NAN and check the shape again\n",
        "df = df.loc[df['Gender'] != 'NAN']\n",
        "df.shape"
      ]
    },
    {
      "cell_type": "markdown",
      "metadata": {
        "id": "Y_LtTI1JME8p"
      },
      "source": [
        "I shall change all the text in Gender column to uppercase"
      ]
    },
    {
      "cell_type": "code",
      "execution_count": null,
      "metadata": {
        "colab": {
          "base_uri": "https://localhost:8080/"
        },
        "id": "jUAGi3TPMMer",
        "outputId": "c290bb98-4def-4b4d-bb27-412d2896d022"
      },
      "outputs": [],
      "source": [
        "#Change values in Gender column to uppercase\n",
        "df['Gender'] = df['Gender'].str.upper()"
      ]
    },
    {
      "cell_type": "code",
      "execution_count": null,
      "metadata": {
        "colab": {
          "base_uri": "https://localhost:8080/"
        },
        "id": "kXQu8kwWOXeV",
        "outputId": "6a6a7421-9938-4efa-e43d-020e964f87c5"
      },
      "outputs": [],
      "source": [
        "# Check the categories in Gender\n",
        "unique_gender = df['Gender'].unique()\n",
        "print(unique_gender)"
      ]
    },
    {
      "cell_type": "markdown",
      "metadata": {
        "id": "2NduCe1cDTWW"
      },
      "source": [
        "I want to view the distribution of the sample size of Lung Cancer Occurence by Gender"
      ]
    },
    {
      "cell_type": "code",
      "execution_count": null,
      "metadata": {
        "colab": {
          "base_uri": "https://localhost:8080/",
          "height": 472
        },
        "id": "yUgwVzwJDYpT",
        "outputId": "70f08ee2-8b48-42e3-bff6-8eed93df608d"
      },
      "outputs": [],
      "source": [
        "sns.countplot(x='Gender', hue='Lung Cancer Occurrence', data=df)\n",
        "plt.title('Lung Cancer Occurrence by Gender')\n",
        "plt.xlabel('Gender')\n",
        "plt.ylabel('Count')\n",
        "plt.show()"
      ]
    },
    {
      "cell_type": "markdown",
      "metadata": {
        "id": "zM1mhTx0Ou2_"
      },
      "source": [
        "I shall perform one hot encoding on the dataset"
      ]
    },
    {
      "cell_type": "code",
      "execution_count": null,
      "metadata": {
        "colab": {
          "base_uri": "https://localhost:8080/"
        },
        "id": "5KQCzyMJOzNR",
        "outputId": "3ebbc98d-8115-4b1d-d2bf-04023164a399"
      },
      "outputs": [],
      "source": [
        "# Apply one-hot encoding\n",
        "gender_encoded = pd.get_dummies(df['Gender'], prefix='Gender')\n",
        "print(gender_encoded)"
      ]
    },
    {
      "cell_type": "code",
      "execution_count": null,
      "metadata": {
        "colab": {
          "base_uri": "https://localhost:8080/",
          "height": 347
        },
        "id": "IGkTuYSDPF2y",
        "outputId": "82f79148-1bac-48e9-bbec-6f087b28f09d"
      },
      "outputs": [],
      "source": [
        "# Add encoded columns to dataset\n",
        "df = pd.concat([df, gender_encoded], axis=1)\n",
        "df.head()"
      ]
    },
    {
      "cell_type": "code",
      "execution_count": null,
      "metadata": {
        "colab": {
          "base_uri": "https://localhost:8080/"
        },
        "id": "UvXtDiLzhadp",
        "outputId": "63a3240a-023c-4471-b6b7-92ac23103414"
      },
      "outputs": [],
      "source": [
        "# Check the categories in COPD History\n",
        "unique_cop_hist = df['COPD History'].unique()\n",
        "print(unique_cop_hist)"
      ]
    },
    {
      "cell_type": "code",
      "execution_count": null,
      "metadata": {
        "colab": {
          "base_uri": "https://localhost:8080/"
        },
        "id": "Qun5li-eiEPw",
        "outputId": "57e58a96-1a39-4819-8c0f-49a3d26793d0"
      },
      "outputs": [],
      "source": [
        "# Count the number of None values\n",
        "none_count = df['COPD History'].isnull().sum()\n",
        "print(f'Number of None values in the COPD History column: {none_count}')"
      ]
    },
    {
      "cell_type": "markdown",
      "metadata": {
        "id": "3s98t9HzDJKB"
      },
      "source": [
        "As the None values in the COPD History is about 10.7% of the dataset (1112/10348), I will choose to fill it as another flag."
      ]
    },
    {
      "cell_type": "code",
      "execution_count": null,
      "metadata": {
        "colab": {
          "base_uri": "https://localhost:8080/"
        },
        "id": "79l7v-yAD6Z_",
        "outputId": "30fd90d0-aba0-40c0-98d3-8cba4fdcab2b"
      },
      "outputs": [],
      "source": [
        "# Fill the None values in COPD_History column with the string 'unknown'.\n",
        "df['COPD History'] = df['COPD History'].fillna('unknown')\n",
        "# Print the unique values again to check\n",
        "unique_cop_hist = df['COPD History'].unique()\n",
        "print(unique_cop_hist)"
      ]
    },
    {
      "cell_type": "markdown",
      "metadata": {
        "id": "t_rV1VCYEOD3"
      },
      "source": [
        "I want to view the distribution of the sample size of Lung Cancer Occurence by COPD History"
      ]
    },
    {
      "cell_type": "code",
      "execution_count": null,
      "metadata": {
        "colab": {
          "base_uri": "https://localhost:8080/",
          "height": 472
        },
        "id": "sG56bm-yET66",
        "outputId": "e571d5ab-53e3-44bf-cc87-4214129a39b4"
      },
      "outputs": [],
      "source": [
        "sns.countplot(x='COPD History', hue='Lung Cancer Occurrence', data=df)\n",
        "plt.title('Lung Cancer Occurrence by COPD History')\n",
        "plt.xlabel('COPD History')\n",
        "plt.ylabel('Count')\n",
        "plt.show()"
      ]
    },
    {
      "cell_type": "code",
      "execution_count": null,
      "metadata": {
        "colab": {
          "base_uri": "https://localhost:8080/"
        },
        "id": "9x7qMz6yDJhQ",
        "outputId": "efdd8449-9efd-4eca-e960-aae7e0a88321"
      },
      "outputs": [],
      "source": [
        "# Apply one-hot encoding\n",
        "copd_hist_encoded = pd.get_dummies(df['COPD History'], prefix='COPD History')\n",
        "print(copd_hist_encoded)"
      ]
    },
    {
      "cell_type": "code",
      "execution_count": null,
      "metadata": {
        "colab": {
          "base_uri": "https://localhost:8080/",
          "height": 347
        },
        "id": "7bY3OMOZFY8q",
        "outputId": "f81b62e9-5f58-4656-acd2-f5d5f4c57915"
      },
      "outputs": [],
      "source": [
        "# Add encoded columns to dataset\n",
        "df = pd.concat([df, copd_hist_encoded], axis=1)\n",
        "df.head()"
      ]
    },
    {
      "cell_type": "code",
      "execution_count": null,
      "metadata": {
        "colab": {
          "base_uri": "https://localhost:8080/"
        },
        "id": "wZ1esTkXg7Pr",
        "outputId": "1034182d-b253-4782-e4a0-89a86d8a857f"
      },
      "outputs": [],
      "source": [
        "# Check the categories in Genetic Markers\n",
        "unique_genetics_markers = df['Genetic Markers'].unique()\n",
        "print(unique_genetics_markers)"
      ]
    },
    {
      "cell_type": "markdown",
      "metadata": {
        "id": "LLVLQ4P-E2QH"
      },
      "source": [
        "I want to view the distribution of the sample size of Lung Cancer Occurence by Genetic Markers"
      ]
    },
    {
      "cell_type": "code",
      "execution_count": null,
      "metadata": {
        "colab": {
          "base_uri": "https://localhost:8080/",
          "height": 472
        },
        "id": "W9XQQjN6E8Ff",
        "outputId": "01eb886b-c54c-4500-af62-31b433c007b5"
      },
      "outputs": [],
      "source": [
        "sns.countplot(x='Genetic Markers', hue='Lung Cancer Occurrence', data=df)\n",
        "plt.title('Lung Cancer Occurrence by Genetic Markers')\n",
        "plt.xlabel('Genetic Markers')\n",
        "plt.ylabel('Count')\n",
        "plt.show()"
      ]
    },
    {
      "cell_type": "code",
      "execution_count": null,
      "metadata": {
        "colab": {
          "base_uri": "https://localhost:8080/"
        },
        "id": "EwM1CC7OG3_f",
        "outputId": "3ac23f00-d2b0-4ef1-d969-4e0d35c4350a"
      },
      "outputs": [],
      "source": [
        "# Apply one-hot encoding\n",
        "genetics_markers_encoded = pd.get_dummies(df['Genetic Markers'], prefix='Genetic Markers')\n",
        "print(genetics_markers_encoded)"
      ]
    },
    {
      "cell_type": "code",
      "execution_count": null,
      "metadata": {
        "colab": {
          "base_uri": "https://localhost:8080/",
          "height": 377
        },
        "id": "RHe7gsaoG6yV",
        "outputId": "27ce8f54-f3b4-4346-f244-c3040fd7795e"
      },
      "outputs": [],
      "source": [
        "# Add encoded columns to dataset\n",
        "df = pd.concat([df, genetics_markers_encoded], axis=1)\n",
        "df.head()"
      ]
    },
    {
      "cell_type": "code",
      "execution_count": null,
      "metadata": {
        "colab": {
          "base_uri": "https://localhost:8080/"
        },
        "id": "575nLFnIGofK",
        "outputId": "395ff51b-4b8f-4f36-a3a6-0348ac81bf61"
      },
      "outputs": [],
      "source": [
        "# Check the categories in Air Pollution Exposure\n",
        "unique_air_pol_exp = df['Air Pollution Exposure'].unique()\n",
        "print(unique_air_pol_exp)"
      ]
    },
    {
      "cell_type": "code",
      "execution_count": null,
      "metadata": {
        "colab": {
          "base_uri": "https://localhost:8080/"
        },
        "id": "oFwLs_a_IwSJ",
        "outputId": "838756bc-8bf0-45ba-ad55-a44fc86ce19c"
      },
      "outputs": [],
      "source": [
        "# Count the number of None values in Air Pollution Exposure column\n",
        "none_count = df['Air Pollution Exposure'].isnull().sum()\n",
        "print(f'Number of None values in the Air Pollution Exposure column: {none_count}')"
      ]
    },
    {
      "cell_type": "markdown",
      "metadata": {
        "id": "RqRofb2kJEiy"
      },
      "source": [
        "Since None value in Air Pollution Exposure column is only 3 rows, I shall drop the rows."
      ]
    },
    {
      "cell_type": "code",
      "execution_count": null,
      "metadata": {
        "colab": {
          "base_uri": "https://localhost:8080/"
        },
        "id": "C4p2IHXIJoRQ",
        "outputId": "4171d55a-ce06-4ed2-d6c8-0c8072b1c685"
      },
      "outputs": [],
      "source": [
        "# Check shape before dropping\n",
        "df.shape"
      ]
    },
    {
      "cell_type": "code",
      "execution_count": null,
      "metadata": {
        "colab": {
          "base_uri": "https://localhost:8080/"
        },
        "id": "oViKEfOYJYuX",
        "outputId": "b1b5887a-1eb0-40d6-93e3-eaa3b2a23b11"
      },
      "outputs": [],
      "source": [
        "# Drop rows where Gender is equivalent to None and check the shape again\n",
        "df = df.dropna(subset=['Air Pollution Exposure'])\n",
        "df.shape"
      ]
    },
    {
      "cell_type": "markdown",
      "metadata": {
        "id": "IgFZbpBdFL1Q"
      },
      "source": [
        "I want to view the distribution of the sample size of Lung Cancer Occurence by Air Pollution Exposure"
      ]
    },
    {
      "cell_type": "code",
      "execution_count": null,
      "metadata": {
        "colab": {
          "base_uri": "https://localhost:8080/",
          "height": 472
        },
        "id": "H9lW85f1FHSq",
        "outputId": "3353e8dd-ffae-4656-cb2b-73a0c52ba686"
      },
      "outputs": [],
      "source": [
        "sns.countplot(x='Air Pollution Exposure', hue='Lung Cancer Occurrence', data=df)\n",
        "plt.title('Lung Cancer Occurrence by Air Pollution Exposure')\n",
        "plt.xlabel('Air Pollution Exposure')\n",
        "plt.ylabel('Count')\n",
        "plt.show()"
      ]
    },
    {
      "cell_type": "code",
      "execution_count": null,
      "metadata": {
        "colab": {
          "base_uri": "https://localhost:8080/"
        },
        "id": "ZgCoYzouI-Rg",
        "outputId": "d1be0007-25b3-4a6b-da5e-e1480aa1add3"
      },
      "outputs": [],
      "source": [
        "# Apply one-hot encoding\n",
        "air_pol_exp_encoded = pd.get_dummies(df['Air Pollution Exposure'], prefix='Air Pollution Exposure')\n",
        "print(air_pol_exp_encoded)"
      ]
    },
    {
      "cell_type": "code",
      "execution_count": null,
      "metadata": {
        "colab": {
          "base_uri": "https://localhost:8080/",
          "height": 377
        },
        "id": "cgoWbpthKE26",
        "outputId": "857df0f4-c6e9-4038-80e5-64a17af8dc59"
      },
      "outputs": [],
      "source": [
        "\n",
        "# Add encoded columns to dataset\n",
        "df = pd.concat([df, air_pol_exp_encoded], axis=1)\n",
        "df.head()"
      ]
    },
    {
      "cell_type": "code",
      "execution_count": null,
      "metadata": {
        "colab": {
          "base_uri": "https://localhost:8080/"
        },
        "id": "6U9gKtjOLbAV",
        "outputId": "05da8779-8e7b-456a-f334-b670ca5371a8"
      },
      "outputs": [],
      "source": [
        "# Check the categories in Taken Bronchodilators\n",
        "unique_taken_broncho = df['Taken Bronchodilators'].unique()\n",
        "print(unique_taken_broncho)"
      ]
    },
    {
      "cell_type": "code",
      "execution_count": null,
      "metadata": {
        "colab": {
          "base_uri": "https://localhost:8080/"
        },
        "id": "03VijpMBLs8s",
        "outputId": "dc1b0d55-32b8-4fbc-eb47-07c96c1dcb08"
      },
      "outputs": [],
      "source": [
        "# Count the number of None values in Taken Bronchodilators column\n",
        "none_count = df['Taken Bronchodilators'].isnull().sum()\n",
        "print(f'Number of None values in the Taken Bronchodilators column: {none_count}')"
      ]
    },
    {
      "cell_type": "markdown",
      "metadata": {
        "id": "QT0H_gOnL7BK"
      },
      "source": [
        "As the None values in the Taken Bronchodilators is about 10.2% of the remaining dataset (1060/10344), I will choose to fill it as another flag."
      ]
    },
    {
      "cell_type": "code",
      "execution_count": null,
      "metadata": {
        "colab": {
          "base_uri": "https://localhost:8080/"
        },
        "id": "QzhU4lVkL98P",
        "outputId": "5818b692-df63-4c97-ddf3-7c8ba22dd96b"
      },
      "outputs": [],
      "source": [
        "# Fill the None values in Taken Bronchodilators column with the string 'unknown'.\n",
        "df['Taken Bronchodilators'] = df['Taken Bronchodilators'].fillna('unknown')\n",
        "# Print the unique values again to check\n",
        "unique_taken_broncho = df['Taken Bronchodilators'].unique()\n",
        "print(unique_taken_broncho)"
      ]
    },
    {
      "cell_type": "markdown",
      "metadata": {
        "id": "_18qUGmEFj0Y"
      },
      "source": [
        "I want to view the distribution of the sample size of Lung Cancer Occurence by Taken Bronchodilators"
      ]
    },
    {
      "cell_type": "code",
      "execution_count": null,
      "metadata": {
        "colab": {
          "base_uri": "https://localhost:8080/",
          "height": 472
        },
        "id": "Pp8osvDCFlkN",
        "outputId": "ecbbbc16-fd28-4c9b-be24-ee9280761dca"
      },
      "outputs": [],
      "source": [
        "sns.countplot(x='Taken Bronchodilators', hue='Lung Cancer Occurrence', data=df)\n",
        "plt.title('Lung Cancer Occurrence by Taken Bronchodilators')\n",
        "plt.xlabel('Taken Bronchodilators')\n",
        "plt.ylabel('Count')\n",
        "plt.show()"
      ]
    },
    {
      "cell_type": "code",
      "execution_count": null,
      "metadata": {
        "colab": {
          "base_uri": "https://localhost:8080/"
        },
        "id": "SFf5J76aMkSh",
        "outputId": "c3e4f767-15cf-4a42-8db9-23d8810e2871"
      },
      "outputs": [],
      "source": [
        "# Apply one-hot encoding\n",
        "taken_broncho_encoded = pd.get_dummies(df['Taken Bronchodilators'], prefix='Taken Bronchodilators')\n",
        "print(taken_broncho_encoded)"
      ]
    },
    {
      "cell_type": "code",
      "execution_count": null,
      "metadata": {
        "colab": {
          "base_uri": "https://localhost:8080/",
          "height": 377
        },
        "id": "baiQT_9aM0XG",
        "outputId": "e140bfd4-4f75-4227-ec05-747cbaf05aaa"
      },
      "outputs": [],
      "source": [
        "# Add encoded columns to dataset\n",
        "df = pd.concat([df, taken_broncho_encoded], axis=1)\n",
        "df.head()"
      ]
    },
    {
      "cell_type": "code",
      "execution_count": null,
      "metadata": {
        "colab": {
          "base_uri": "https://localhost:8080/"
        },
        "id": "4zcuYZBXNerI",
        "outputId": "1d9a94be-a1c3-4bdc-97a2-3aba54981ebe"
      },
      "outputs": [],
      "source": [
        "# Check the categories in Frequency of Tiredness\n",
        "unique_freq_tired = df['Frequency of Tiredness'].unique()\n",
        "print(unique_freq_tired)"
      ]
    },
    {
      "cell_type": "markdown",
      "metadata": {
        "id": "j80HyPRVHsce"
      },
      "source": [
        "I want to view the distribution of the sample size of Lung Cancer Occurence by Frequency of Tiredness"
      ]
    },
    {
      "cell_type": "code",
      "execution_count": null,
      "metadata": {
        "colab": {
          "base_uri": "https://localhost:8080/",
          "height": 472
        },
        "id": "zZKq8Pb5Hvse",
        "outputId": "3f7e5615-dbec-4ad8-8877-a7167510637a"
      },
      "outputs": [],
      "source": [
        "sns.countplot(x='Frequency of Tiredness', hue='Lung Cancer Occurrence', data=df)\n",
        "plt.title('Lung Cancer Occurrence by Frequency of Tiredness')\n",
        "plt.xlabel('Frequency of Tiredness')\n",
        "plt.ylabel('Count')\n",
        "plt.show()"
      ]
    },
    {
      "cell_type": "code",
      "execution_count": null,
      "metadata": {
        "colab": {
          "base_uri": "https://localhost:8080/"
        },
        "id": "ieh6Ja4pNv_m",
        "outputId": "9752425f-640f-47d9-de41-5f633970dc6f"
      },
      "outputs": [],
      "source": [
        "# Apply one-hot encoding\n",
        "freq_tired_encoded = pd.get_dummies(df['Frequency of Tiredness'], prefix='Frequency of Tiredness')\n",
        "print(freq_tired_encoded)"
      ]
    },
    {
      "cell_type": "code",
      "execution_count": null,
      "metadata": {
        "colab": {
          "base_uri": "https://localhost:8080/",
          "height": 377
        },
        "id": "Xx2-qdawOJmw",
        "outputId": "adef37e3-1283-4166-cd66-e22f7729ae96"
      },
      "outputs": [],
      "source": [
        "# Add encoded columns to dataset\n",
        "df = pd.concat([df, freq_tired_encoded], axis=1)\n",
        "df.head()"
      ]
    },
    {
      "cell_type": "code",
      "execution_count": null,
      "metadata": {
        "colab": {
          "base_uri": "https://localhost:8080/"
        },
        "id": "uXBF-sjQIdGa",
        "outputId": "0d01085c-7010-44e8-83cd-62c51caaa709"
      },
      "outputs": [],
      "source": [
        "# Check the categories in Dominant Hand\n",
        "unique_dom_hand = df['Dominant Hand'].unique()\n",
        "print(unique_dom_hand)"
      ]
    },
    {
      "cell_type": "markdown",
      "metadata": {
        "id": "qhxgVRFJIDC6"
      },
      "source": [
        "I want to view the distribution of the sample size of Lung Cancer Occurence by Dominant Hand"
      ]
    },
    {
      "cell_type": "code",
      "execution_count": null,
      "metadata": {
        "colab": {
          "base_uri": "https://localhost:8080/",
          "height": 472
        },
        "id": "jLs_OD6bIE00",
        "outputId": "9f7aa758-f593-4144-b41a-bd35ca47a7dc"
      },
      "outputs": [],
      "source": [
        "sns.countplot(x='Dominant Hand', hue='Lung Cancer Occurrence', data=df)\n",
        "plt.title('Lung Cancer Occurrence by Dominant Hand')\n",
        "plt.xlabel('Dominant Hand')\n",
        "plt.ylabel('Count')\n",
        "plt.show()"
      ]
    },
    {
      "cell_type": "code",
      "execution_count": null,
      "metadata": {
        "colab": {
          "base_uri": "https://localhost:8080/"
        },
        "id": "zASDpefUOhXO",
        "outputId": "ccea21ff-4a20-4145-e1ba-9ec549fa6b32"
      },
      "outputs": [],
      "source": [
        "# Apply one-hot encoding\n",
        "dom_hand_encoded = pd.get_dummies(df['Dominant Hand'], prefix='Dominant Hand')\n",
        "print(dom_hand_encoded)"
      ]
    },
    {
      "cell_type": "code",
      "execution_count": null,
      "metadata": {
        "colab": {
          "base_uri": "https://localhost:8080/",
          "height": 377
        },
        "id": "9NYbb-hAOpQS",
        "outputId": "acabb883-fdf1-4e2f-d608-fc5ab6a30f45"
      },
      "outputs": [],
      "source": [
        "# Add encoded columns to dataset\n",
        "df = pd.concat([df, dom_hand_encoded], axis=1)\n",
        "df.head()"
      ]
    },
    {
      "cell_type": "markdown",
      "metadata": {
        "id": "inMkXj0hPA-3"
      },
      "source": [
        "Now I will need to calculate the difference of Last Weight and Current Weight columns to derive a new column named Weight Change."
      ]
    },
    {
      "cell_type": "code",
      "execution_count": null,
      "metadata": {
        "colab": {
          "base_uri": "https://localhost:8080/"
        },
        "id": "hSr9JGKlQPfI",
        "outputId": "e9481cc3-5a98-4d32-9c2d-ace1b34b5832"
      },
      "outputs": [],
      "source": [
        "# Count the number of None values in Last Weight column\n",
        "none_count = df['Last Weight'].isnull().sum()\n",
        "print(f'Number of None values in the Last Weight column: {none_count}')"
      ]
    },
    {
      "cell_type": "code",
      "execution_count": null,
      "metadata": {
        "colab": {
          "base_uri": "https://localhost:8080/"
        },
        "id": "AaAAqzzhQg8t",
        "outputId": "d366dbf2-67a2-41b7-9c34-973a69671f67"
      },
      "outputs": [],
      "source": [
        "# Count the number of NaN values in Last Weight column\n",
        "nan_count = df['Last Weight'].isna().sum()\n",
        "print(f'Number of NaN values in the Last Weight column: {nan_count}')"
      ]
    },
    {
      "cell_type": "code",
      "execution_count": null,
      "metadata": {
        "colab": {
          "base_uri": "https://localhost:8080/"
        },
        "id": "Z05XeRK_Qwdk",
        "outputId": "d97c62ae-b946-4b5f-a319-da16f22864cc"
      },
      "outputs": [],
      "source": [
        "# Count the number of None values in Current Weight column\n",
        "none_count = df['Current Weight'].isnull().sum()\n",
        "print(f'Number of None values in the Current Weight column: {none_count}')"
      ]
    },
    {
      "cell_type": "code",
      "execution_count": null,
      "metadata": {
        "colab": {
          "base_uri": "https://localhost:8080/"
        },
        "id": "4ROr3ikkQ5rP",
        "outputId": "021f2ce7-ccdb-4c26-e718-c5ce620ddb9a"
      },
      "outputs": [],
      "source": [
        "# Count the number of NaN values in Current Weight column\n",
        "nan_count = df['Current Weight'].isna().sum()\n",
        "print(f'Number of NaN values in the Current Weight column: {nan_count}')"
      ]
    },
    {
      "cell_type": "code",
      "execution_count": null,
      "metadata": {
        "colab": {
          "base_uri": "https://localhost:8080/",
          "height": 377
        },
        "id": "ZQzWQ3T5RArX",
        "outputId": "6abc4e7e-61d7-4832-d6af-0316d17bc487"
      },
      "outputs": [],
      "source": [
        "# Minus the Last Weight from Current Weight and put the result in a new column\n",
        "df['Weight Change'] = df['Last Weight'] - df['Current Weight']\n",
        "df.head()"
      ]
    },
    {
      "cell_type": "code",
      "execution_count": null,
      "metadata": {
        "colab": {
          "base_uri": "https://localhost:8080/",
          "height": 377
        },
        "id": "n2NJ_XzTRxQL",
        "outputId": "b95314b7-a4a9-47a4-b95a-43dc069712ca"
      },
      "outputs": [],
      "source": [
        "# Drop the Last Weight and Current Weight columns\n",
        "df = df.drop(['Last Weight','Current Weight'], axis=1)\n",
        "df.head()"
      ]
    },
    {
      "cell_type": "code",
      "execution_count": null,
      "metadata": {
        "colab": {
          "base_uri": "https://localhost:8080/",
          "height": 384
        },
        "id": "iYqQpFEmJ-XD",
        "outputId": "1f02f8ef-43c2-4f9e-c1ef-d9149a53b93a"
      },
      "outputs": [],
      "source": [
        "df.describe()"
      ]
    },
    {
      "cell_type": "markdown",
      "metadata": {
        "id": "pin-ucsKJyCv"
      },
      "source": [
        "I want to view the distribution of the sample size of Lung Cancer Occurence by Weight Change"
      ]
    },
    {
      "cell_type": "code",
      "execution_count": null,
      "metadata": {
        "colab": {
          "base_uri": "https://localhost:8080/",
          "height": 377
        },
        "id": "6pZYrdcoKOSs",
        "outputId": "52f84049-5608-44f8-b4b9-d7120ac3a58c"
      },
      "outputs": [],
      "source": [
        "# Define age bins and labels\n",
        "bins = [-20, -15, -10, -5, 0, 5, 10, 15, 20]\n",
        "labels = ['-20 to -16', '-15 to -11', '-10 to -6', '-5 to -1', '0 to 4', '5 to 9', '10 to 14', '15 to 20']\n",
        "\n",
        "# Create Age Group column based on Age column\n",
        "df['Weight Change Group'] = pd.cut(df['Weight Change'], bins=bins, labels=labels, right=False)\n",
        "\n",
        "df.head()"
      ]
    },
    {
      "cell_type": "markdown",
      "metadata": {
        "id": "GSgA9YaCNnyg"
      },
      "source": [
        "I want to view the distribution of the sample size of Lung Cancer Occurence by Weight Change Group"
      ]
    },
    {
      "cell_type": "code",
      "execution_count": null,
      "metadata": {
        "colab": {
          "base_uri": "https://localhost:8080/",
          "height": 487
        },
        "id": "lZ81CMmqJIGB",
        "outputId": "8c6171c0-47d1-4bdb-9f6c-ea3151c1b064"
      },
      "outputs": [],
      "source": [
        "sns.countplot(x='Weight Change Group', hue='Lung Cancer Occurrence', data=df)\n",
        "plt.title('Lung Cancer Occurrence by Weight Change Group')\n",
        "plt.xlabel('Weight Change Group')\n",
        "plt.ylabel('Count')\n",
        "plt.xticks(rotation=45)\n",
        "plt.tight_layout()\n",
        "plt.show()"
      ]
    },
    {
      "cell_type": "markdown",
      "metadata": {
        "id": "9e8nxrodSKT9"
      },
      "source": [
        "Now I will need to calculate the difference of 'Start Smoking' and 'Stop Smoking' columns to derive a new column named 'Years Quitted Smoking'."
      ]
    },
    {
      "cell_type": "code",
      "execution_count": null,
      "metadata": {
        "colab": {
          "base_uri": "https://localhost:8080/"
        },
        "id": "m7MzGnUHSZPI",
        "outputId": "a6b2f9ab-5976-479a-ebe2-532d3ed9b8d7"
      },
      "outputs": [],
      "source": [
        "# Check the unique values in Start Smoking\n",
        "unique_start_smoking = df['Start Smoking'].unique()\n",
        "print(unique_start_smoking)"
      ]
    },
    {
      "cell_type": "code",
      "execution_count": null,
      "metadata": {
        "colab": {
          "base_uri": "https://localhost:8080/"
        },
        "id": "oJlYbpmmSwbk",
        "outputId": "549d80f3-d5c3-4beb-9108-af8f54dec9a4"
      },
      "outputs": [],
      "source": [
        "# Check the unique values in Stop Smoking\n",
        "unique_stop_smoking = df['Stop Smoking'].unique()\n",
        "print(unique_stop_smoking)"
      ]
    },
    {
      "cell_type": "markdown",
      "metadata": {
        "id": "5mHnYKpgTGS_"
      },
      "source": [
        "It seems that 'Not Applicable' is for non smokers but I must investigate further. I will check if all. the rows in Start Smoking is Not Applicable has a corresponding value of the same in Stop Smoking column."
      ]
    },
    {
      "cell_type": "code",
      "execution_count": null,
      "metadata": {
        "colab": {
          "base_uri": "https://localhost:8080/"
        },
        "id": "FjDGoj-wTEV0",
        "outputId": "21cf7613-76d5-4183-b9f2-8734b8f4db1d"
      },
      "outputs": [],
      "source": [
        "# Check for different values where Start Smoking is 'Not Applicable' but Stop Smoking is not\n",
        "filtered_df = df[(df['Start Smoking'] == 'Not Applicable') & (df['Stop Smoking'] != 'Not Applicable')]\n",
        "print(filtered_df)"
      ]
    },
    {
      "cell_type": "code",
      "execution_count": null,
      "metadata": {
        "colab": {
          "base_uri": "https://localhost:8080/"
        },
        "id": "80fS0NipUz76",
        "outputId": "9d42d92c-d2b9-4f52-f9b6-7492b7dcaec3"
      },
      "outputs": [],
      "source": [
        "# Check for different values where Stop Smoking is 'Not Applicable' but Start Smoking is not\n",
        "filtered_df = df[(df['Start Smoking'] != 'Not Applicable') & (df['Stop Smoking'] == 'Not Applicable')]\n",
        "print(filtered_df)"
      ]
    },
    {
      "cell_type": "markdown",
      "metadata": {
        "id": "tQOX9i5zVHDs"
      },
      "source": [
        "Since both Start Smoking and Stop Smoking have the same values where the value is 'Not Applicable', I can safely assume that 'Not Applicable' are for non-smokers. I will replace the Start Smoking column with values 'Not Applicable' with 0000 and Stop Smoking column with values 'Not Applicable' with 9999"
      ]
    },
    {
      "cell_type": "code",
      "execution_count": null,
      "metadata": {
        "colab": {
          "base_uri": "https://localhost:8080/"
        },
        "id": "je_SHzlXVCkJ",
        "outputId": "4d9f206b-7777-483e-e23a-f5dfe58e7925"
      },
      "outputs": [],
      "source": [
        "# Replace the values 'Not Applicable' with 0000\n",
        "df['Start Smoking'] = df['Start Smoking'].replace('Not Applicable', '0000')\n",
        "df['Stop Smoking'] = df['Stop Smoking'].replace('Not Applicable', '9999')\n",
        "# Check the unique values in Start Smoking\n",
        "unique_start_smoking = df['Start Smoking'].unique()\n",
        "print(unique_start_smoking)"
      ]
    },
    {
      "cell_type": "code",
      "execution_count": null,
      "metadata": {
        "colab": {
          "base_uri": "https://localhost:8080/"
        },
        "id": "XQ81jqauWwbF",
        "outputId": "57200e61-0938-4402-9085-1169745f58ba"
      },
      "outputs": [],
      "source": [
        "# Check the unique values in Stop Smoking\n",
        "unique_stop_smoking = df['Stop Smoking'].unique()\n",
        "print(unique_stop_smoking)"
      ]
    },
    {
      "cell_type": "markdown",
      "metadata": {
        "id": "2-zcR6LyW3Ze"
      },
      "source": [
        "I will now replace Still Smoking in Stop Smoking column with 9999"
      ]
    },
    {
      "cell_type": "code",
      "execution_count": null,
      "metadata": {
        "colab": {
          "base_uri": "https://localhost:8080/"
        },
        "id": "cBYKVM0fW_ft",
        "outputId": "023925e8-4d79-4330-d00c-0d6d94b59cc1"
      },
      "outputs": [],
      "source": [
        "# Replace the values 'Still Smoking' with 9999\n",
        "df['Stop Smoking'] = df['Stop Smoking'].replace('Still Smoking', '9999')\n",
        "# Check the unique values in Stop Smoking\n",
        "unique_stop_smoking = df['Stop Smoking'].unique()\n",
        "print(unique_stop_smoking)"
      ]
    },
    {
      "cell_type": "markdown",
      "metadata": {
        "id": "QvHbJP9OXgYo"
      },
      "source": [
        "Now I will deduct the values in Stop Smoking Column from Start Smoking column.  Any value with the value of 0 can be interpreted as a non-smoker. Any value above 3000, I can assume that the person is still smoking. Any negative value needs to be investigated further."
      ]
    },
    {
      "cell_type": "code",
      "execution_count": null,
      "metadata": {
        "colab": {
          "base_uri": "https://localhost:8080/",
          "height": 377
        },
        "id": "MYYxnTLqYPJo",
        "outputId": "18bc5547-3eda-4531-84f3-ba45b3d34b74"
      },
      "outputs": [],
      "source": [
        "# Change the datatype of values in Start Smoking and Stop Smoking to integers\n",
        "df['Start Smoking'] = df['Start Smoking'].astype(int)\n",
        "df['Stop Smoking'] = df['Stop Smoking'].astype(int)\n",
        "df.head()"
      ]
    },
    {
      "cell_type": "code",
      "execution_count": null,
      "metadata": {
        "colab": {
          "base_uri": "https://localhost:8080/",
          "height": 377
        },
        "id": "m2ah2MX1ZBbb",
        "outputId": "d8d929f1-5ee5-4dfc-8aa6-f77af1ef616a"
      },
      "outputs": [],
      "source": [
        "# Subtract 'Stop Smoking' from 'Start Smoking' and store the result in a new column 'Years Quitted Smoking'\n",
        "df['Years Quitted Smoking'] = df['Stop Smoking'] - df['Start Smoking']\n",
        "df.head()"
      ]
    },
    {
      "cell_type": "code",
      "execution_count": null,
      "metadata": {
        "colab": {
          "base_uri": "https://localhost:8080/",
          "height": 377
        },
        "id": "ZkXAfFgwZqrL",
        "outputId": "4cb1e89c-6e12-47e7-cba1-7585090ab338"
      },
      "outputs": [],
      "source": [
        "# Replace the values in Years Quitted Smoking above 3000 with 9999\n",
        "df.loc[(df['Years Quitted Smoking'] > 3000) & (df['Years Quitted Smoking'] != 9999), 'Years Quitted Smoking'] = 0\n",
        "df.head()"
      ]
    },
    {
      "cell_type": "code",
      "execution_count": null,
      "metadata": {
        "colab": {
          "base_uri": "https://localhost:8080/",
          "height": 384
        },
        "id": "A5pRlMpyPAQf",
        "outputId": "ec98b2e8-3c80-427d-9934-4022fcc89b98"
      },
      "outputs": [],
      "source": [
        "df.describe()"
      ]
    },
    {
      "cell_type": "markdown",
      "metadata": {
        "id": "uX9BR3EwaiAs"
      },
      "source": [
        "Since that there are no negative values in Years Quitted Smoking column, I can assume that it does not require further investigation."
      ]
    },
    {
      "cell_type": "code",
      "execution_count": null,
      "metadata": {
        "colab": {
          "base_uri": "https://localhost:8080/"
        },
        "id": "nhMasGA9aZeY",
        "outputId": "0dccf66a-16b5-4a66-9f44-c7163dee7247"
      },
      "outputs": [],
      "source": [
        "df.shape"
      ]
    },
    {
      "cell_type": "code",
      "execution_count": null,
      "metadata": {
        "id": "7Tg8KnApnyJ_"
      },
      "outputs": [],
      "source": [
        "# Export the dataframe to csv\n",
        "df.to_csv('cleaned_data.csv')"
      ]
    },
    {
      "cell_type": "markdown",
      "metadata": {
        "id": "AsfEywGFaKU_"
      },
      "source": [
        "Now that I have cleaned and transformed the data, I will analyse it."
      ]
    },
    {
      "cell_type": "code",
      "execution_count": null,
      "metadata": {
        "colab": {
          "base_uri": "https://localhost:8080/"
        },
        "id": "1s2eHWFjdbvv",
        "outputId": "ed653160-c5cc-41bd-ac97-0c6d18a51a38"
      },
      "outputs": [],
      "source": [
        "# Calculate correlation\n",
        "correlation_matrix = df.corr()"
      ]
    },
    {
      "cell_type": "code",
      "execution_count": null,
      "metadata": {
        "colab": {
          "base_uri": "https://localhost:8080/",
          "height": 578
        },
        "id": "uQ4LXnAoWOgi",
        "outputId": "e96b70d2-2dd2-47b4-e8fc-9a10618054e7"
      },
      "outputs": [],
      "source": [
        "# Create the heatmap\n",
        "plt.figure(figsize=(20, 8))  # Size of the figure\n",
        "sns.heatmap(correlation_matrix, annot=True, cmap='coolwarm')\n",
        "\n",
        "# Add titles and labels if needed\n",
        "plt.title('Correlation Matrix Heatmap')\n",
        "plt.xlabel('Variables')\n",
        "plt.ylabel('Variables')\n",
        "plt.tight_layout()\n",
        "\n",
        "# Show the plot\n",
        "plt.show()"
      ]
    },
    {
      "cell_type": "markdown",
      "metadata": {
        "id": "qdhbbp0dX4BV"
      },
      "source": [
        "It seems that Weight Change has the strongest correlation to Lung Cancer Occurence. Most of the variables have very weak correlations."
      ]
    }
  ],
  "metadata": {
    "colab": {
      "provenance": []
    },
    "kernelspec": {
      "display_name": "Python 3",
      "name": "python3"
    },
    "language_info": {
      "codemirror_mode": {
        "name": "ipython",
        "version": 3
      },
      "file_extension": ".py",
      "mimetype": "text/x-python",
      "name": "python",
      "nbconvert_exporter": "python",
      "pygments_lexer": "ipython3",
      "version": "3.9.6"
    }
  },
  "nbformat": 4,
  "nbformat_minor": 0
}
